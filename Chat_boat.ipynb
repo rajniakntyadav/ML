{
 "cells": [
  {
   "cell_type": "code",
   "execution_count": 1,
   "metadata": {},
   "outputs": [],
   "source": [
    "#importing libraries\n",
    "import pandas as pd\n",
    "import numpy as np\n",
    "\n",
    "# Load vectorizer and similarity measure\n",
    "from sklearn.feature_extraction.text import TfidfVectorizer\n",
    "from sklearn.metrics.pairwise import cosine_similarity\n"
   ]
  },
  {
   "cell_type": "code",
   "execution_count": 2,
   "metadata": {},
   "outputs": [
    {
     "data": {
      "text/html": [
       "<div>\n",
       "<style scoped>\n",
       "    .dataframe tbody tr th:only-of-type {\n",
       "        vertical-align: middle;\n",
       "    }\n",
       "\n",
       "    .dataframe tbody tr th {\n",
       "        vertical-align: top;\n",
       "    }\n",
       "\n",
       "    .dataframe thead th {\n",
       "        text-align: right;\n",
       "    }\n",
       "</style>\n",
       "<table border=\"1\" class=\"dataframe\">\n",
       "  <thead>\n",
       "    <tr style=\"text-align: right;\">\n",
       "      <th></th>\n",
       "      <th>Question</th>\n",
       "      <th>Answer</th>\n",
       "    </tr>\n",
       "  </thead>\n",
       "  <tbody>\n",
       "    <tr>\n",
       "      <th>0</th>\n",
       "      <td>What is Amazon Elastic Compute Cloud (Amazon E...</td>\n",
       "      <td>Amazon Elastic Compute Cloud (Amazon EC2) is a...</td>\n",
       "    </tr>\n",
       "    <tr>\n",
       "      <th>1</th>\n",
       "      <td>What can I do with Amazon EC2?</td>\n",
       "      <td>Just as Amazon Simple Storage Service (Amazon ...</td>\n",
       "    </tr>\n",
       "    <tr>\n",
       "      <th>2</th>\n",
       "      <td>How can I get started with Amazon EC2?</td>\n",
       "      <td>To sign up for Amazon EC2, click the “Sign up ...</td>\n",
       "    </tr>\n",
       "    <tr>\n",
       "      <th>3</th>\n",
       "      <td>Why am I asked to verify my phone number when ...</td>\n",
       "      <td>Amazon EC2 registration requires you to have a...</td>\n",
       "    </tr>\n",
       "    <tr>\n",
       "      <th>4</th>\n",
       "      <td>What can developers now do that they could not...</td>\n",
       "      <td>Until now, small developers did not have the c...</td>\n",
       "    </tr>\n",
       "  </tbody>\n",
       "</table>\n",
       "</div>"
      ],
      "text/plain": [
       "                                            Question  \\\n",
       "0  What is Amazon Elastic Compute Cloud (Amazon E...   \n",
       "1                     What can I do with Amazon EC2?   \n",
       "2             How can I get started with Amazon EC2?   \n",
       "3  Why am I asked to verify my phone number when ...   \n",
       "4  What can developers now do that they could not...   \n",
       "\n",
       "                                              Answer  \n",
       "0  Amazon Elastic Compute Cloud (Amazon EC2) is a...  \n",
       "1  Just as Amazon Simple Storage Service (Amazon ...  \n",
       "2  To sign up for Amazon EC2, click the “Sign up ...  \n",
       "3  Amazon EC2 registration requires you to have a...  \n",
       "4  Until now, small developers did not have the c...  "
      ]
     },
     "execution_count": 2,
     "metadata": {},
     "output_type": "execute_result"
    }
   ],
   "source": [
    "#reading first csv file\n",
    "df1= pd.read_csv(\"aws_faq.csv\")\n",
    "df1.head()"
   ]
  },
  {
   "cell_type": "code",
   "execution_count": 3,
   "metadata": {},
   "outputs": [
    {
     "data": {
      "text/html": [
       "<div>\n",
       "<style scoped>\n",
       "    .dataframe tbody tr th:only-of-type {\n",
       "        vertical-align: middle;\n",
       "    }\n",
       "\n",
       "    .dataframe tbody tr th {\n",
       "        vertical-align: top;\n",
       "    }\n",
       "\n",
       "    .dataframe thead th {\n",
       "        text-align: right;\n",
       "    }\n",
       "</style>\n",
       "<table border=\"1\" class=\"dataframe\">\n",
       "  <thead>\n",
       "    <tr style=\"text-align: right;\">\n",
       "      <th></th>\n",
       "      <th>Question</th>\n",
       "      <th>Answer</th>\n",
       "    </tr>\n",
       "  </thead>\n",
       "  <tbody>\n",
       "    <tr>\n",
       "      <th>0</th>\n",
       "      <td>Explain what is Flask &amp; its benefits?</td>\n",
       "      <td>Flask is a web micro framework for Python base...</td>\n",
       "    </tr>\n",
       "    <tr>\n",
       "      <th>1</th>\n",
       "      <td>Mention what is the difference between Django,...</td>\n",
       "      <td>Flask is a \"microframework\" primarily build fo...</td>\n",
       "    </tr>\n",
       "    <tr>\n",
       "      <th>2</th>\n",
       "      <td>Mention what is Flask-WTF and what are their f...</td>\n",
       "      <td>Flask-WTF offers simple integration with WTFor...</td>\n",
       "    </tr>\n",
       "    <tr>\n",
       "      <th>3</th>\n",
       "      <td>Explain what is the common way for the Flask ...</td>\n",
       "      <td>The common way for the flask script to work is...</td>\n",
       "    </tr>\n",
       "    <tr>\n",
       "      <th>4</th>\n",
       "      <td>is Flask an MVC model and if yes give an examp...</td>\n",
       "      <td>Basically, Flask is a minimalistic framework w...</td>\n",
       "    </tr>\n",
       "  </tbody>\n",
       "</table>\n",
       "</div>"
      ],
      "text/plain": [
       "                                            Question  \\\n",
       "0              Explain what is Flask & its benefits?   \n",
       "1  Mention what is the difference between Django,...   \n",
       "2  Mention what is Flask-WTF and what are their f...   \n",
       "3   Explain what is the common way for the Flask ...   \n",
       "4  is Flask an MVC model and if yes give an examp...   \n",
       "\n",
       "                                              Answer  \n",
       "0  Flask is a web micro framework for Python base...  \n",
       "1  Flask is a \"microframework\" primarily build fo...  \n",
       "2  Flask-WTF offers simple integration with WTFor...  \n",
       "3  The common way for the flask script to work is...  \n",
       "4  Basically, Flask is a minimalistic framework w...  "
      ]
     },
     "execution_count": 3,
     "metadata": {},
     "output_type": "execute_result"
    }
   ],
   "source": [
    "#reading second csv file\n",
    "df2= pd.read_csv(\"progq_a.csv\")\n",
    "df2.head()"
   ]
  },
  {
   "cell_type": "code",
   "execution_count": 4,
   "metadata": {},
   "outputs": [],
   "source": [
    "#creating new dataset with help of both dataset\n",
    "df=pd.DataFrame()"
   ]
  },
  {
   "cell_type": "code",
   "execution_count": 5,
   "metadata": {},
   "outputs": [],
   "source": [
    "#renaming second dataset first column name with first dataset first column name\n",
    "df[\"Question\"]=df2[\"Question\"]"
   ]
  },
  {
   "cell_type": "code",
   "execution_count": 6,
   "metadata": {},
   "outputs": [],
   "source": [
    "#renaming second dataset second column name with first dataset second column name\n",
    "df[\"Answer\"]=df2[\"Answer\"]"
   ]
  },
  {
   "cell_type": "code",
   "execution_count": 7,
   "metadata": {},
   "outputs": [
    {
     "data": {
      "text/html": [
       "<div>\n",
       "<style scoped>\n",
       "    .dataframe tbody tr th:only-of-type {\n",
       "        vertical-align: middle;\n",
       "    }\n",
       "\n",
       "    .dataframe tbody tr th {\n",
       "        vertical-align: top;\n",
       "    }\n",
       "\n",
       "    .dataframe thead th {\n",
       "        text-align: right;\n",
       "    }\n",
       "</style>\n",
       "<table border=\"1\" class=\"dataframe\">\n",
       "  <thead>\n",
       "    <tr style=\"text-align: right;\">\n",
       "      <th></th>\n",
       "      <th>Question</th>\n",
       "      <th>Answer</th>\n",
       "    </tr>\n",
       "  </thead>\n",
       "  <tbody>\n",
       "    <tr>\n",
       "      <th>0</th>\n",
       "      <td>What is Amazon Elastic Compute Cloud (Amazon E...</td>\n",
       "      <td>Amazon Elastic Compute Cloud (Amazon EC2) is a...</td>\n",
       "    </tr>\n",
       "    <tr>\n",
       "      <th>1</th>\n",
       "      <td>What can I do with Amazon EC2?</td>\n",
       "      <td>Just as Amazon Simple Storage Service (Amazon ...</td>\n",
       "    </tr>\n",
       "    <tr>\n",
       "      <th>2</th>\n",
       "      <td>How can I get started with Amazon EC2?</td>\n",
       "      <td>To sign up for Amazon EC2, click the “Sign up ...</td>\n",
       "    </tr>\n",
       "    <tr>\n",
       "      <th>3</th>\n",
       "      <td>Why am I asked to verify my phone number when ...</td>\n",
       "      <td>Amazon EC2 registration requires you to have a...</td>\n",
       "    </tr>\n",
       "    <tr>\n",
       "      <th>4</th>\n",
       "      <td>What can developers now do that they could not...</td>\n",
       "      <td>Until now, small developers did not have the c...</td>\n",
       "    </tr>\n",
       "  </tbody>\n",
       "</table>\n",
       "</div>"
      ],
      "text/plain": [
       "                                            Question  \\\n",
       "0  What is Amazon Elastic Compute Cloud (Amazon E...   \n",
       "1                     What can I do with Amazon EC2?   \n",
       "2             How can I get started with Amazon EC2?   \n",
       "3  Why am I asked to verify my phone number when ...   \n",
       "4  What can developers now do that they could not...   \n",
       "\n",
       "                                              Answer  \n",
       "0  Amazon Elastic Compute Cloud (Amazon EC2) is a...  \n",
       "1  Just as Amazon Simple Storage Service (Amazon ...  \n",
       "2  To sign up for Amazon EC2, click the “Sign up ...  \n",
       "3  Amazon EC2 registration requires you to have a...  \n",
       "4  Until now, small developers did not have the c...  "
      ]
     },
     "execution_count": 7,
     "metadata": {},
     "output_type": "execute_result"
    }
   ],
   "source": [
    "df3=pd.concat([df1,df])\n",
    "df3.dropna(inplace=True)\n",
    "df3.head()"
   ]
  },
  {
   "cell_type": "code",
   "execution_count": 8,
   "metadata": {},
   "outputs": [
    {
     "data": {
      "text/html": [
       "<div>\n",
       "<style scoped>\n",
       "    .dataframe tbody tr th:only-of-type {\n",
       "        vertical-align: middle;\n",
       "    }\n",
       "\n",
       "    .dataframe tbody tr th {\n",
       "        vertical-align: top;\n",
       "    }\n",
       "\n",
       "    .dataframe thead th {\n",
       "        text-align: right;\n",
       "    }\n",
       "</style>\n",
       "<table border=\"1\" class=\"dataframe\">\n",
       "  <thead>\n",
       "    <tr style=\"text-align: right;\">\n",
       "      <th></th>\n",
       "      <th>Question</th>\n",
       "      <th>Answer</th>\n",
       "    </tr>\n",
       "  </thead>\n",
       "  <tbody>\n",
       "    <tr>\n",
       "      <th>621</th>\n",
       "      <td>what is  PTE Exam  Eligibility Conditions</td>\n",
       "      <td>It is a language assessment exam which allows ...</td>\n",
       "    </tr>\n",
       "    <tr>\n",
       "      <th>622</th>\n",
       "      <td>PTE Exam Test Date</td>\n",
       "      <td>The PTE exam is conducted round the year. So, ...</td>\n",
       "    </tr>\n",
       "    <tr>\n",
       "      <th>623</th>\n",
       "      <td>PTE Exam Overview of PTE</td>\n",
       "      <td>S.No.  Particulars  Details\\n1.  Eligibility c...</td>\n",
       "    </tr>\n",
       "    <tr>\n",
       "      <th>624</th>\n",
       "      <td>Olcademy</td>\n",
       "      <td>Olcademy is regarded as one of the best startu...</td>\n",
       "    </tr>\n",
       "    <tr>\n",
       "      <th>625</th>\n",
       "      <td>History of Olcademy</td>\n",
       "      <td>Olcademy was founded by Mukul Verma. In Novemb...</td>\n",
       "    </tr>\n",
       "  </tbody>\n",
       "</table>\n",
       "</div>"
      ],
      "text/plain": [
       "                                        Question  \\\n",
       "621   what is  PTE Exam  Eligibility Conditions   \n",
       "622                           PTE Exam Test Date   \n",
       "623                     PTE Exam Overview of PTE   \n",
       "624                                     Olcademy   \n",
       "625                          History of Olcademy   \n",
       "\n",
       "                                                Answer  \n",
       "621  It is a language assessment exam which allows ...  \n",
       "622  The PTE exam is conducted round the year. So, ...  \n",
       "623  S.No.  Particulars  Details\\n1.  Eligibility c...  \n",
       "624  Olcademy is regarded as one of the best startu...  \n",
       "625  Olcademy was founded by Mukul Verma. In Novemb...  "
      ]
     },
     "execution_count": 8,
     "metadata": {},
     "output_type": "execute_result"
    }
   ],
   "source": [
    "df3.tail()"
   ]
  },
  {
   "cell_type": "code",
   "execution_count": 9,
   "metadata": {},
   "outputs": [
    {
     "data": {
      "text/plain": [
       "671"
      ]
     },
     "execution_count": 9,
     "metadata": {},
     "output_type": "execute_result"
    }
   ],
   "source": [
    "len(df1) "
   ]
  },
  {
   "cell_type": "code",
   "execution_count": null,
   "metadata": {},
   "outputs": [],
   "source": []
  },
  {
   "cell_type": "code",
   "execution_count": 10,
   "metadata": {},
   "outputs": [
    {
     "data": {
      "text/plain": [
       "626"
      ]
     },
     "execution_count": 10,
     "metadata": {},
     "output_type": "execute_result"
    }
   ],
   "source": [
    "len(df2)"
   ]
  },
  {
   "cell_type": "code",
   "execution_count": 11,
   "metadata": {},
   "outputs": [
    {
     "data": {
      "text/plain": [
       "1278"
      ]
     },
     "execution_count": 11,
     "metadata": {},
     "output_type": "execute_result"
    }
   ],
   "source": [
    "len(df3)"
   ]
  },
  {
   "cell_type": "code",
   "execution_count": 12,
   "metadata": {},
   "outputs": [
    {
     "data": {
      "text/plain": [
       "TfidfVectorizer(analyzer='word', binary=False, decode_error='strict',\n",
       "                dtype=<class 'numpy.float64'>, encoding='utf-8',\n",
       "                input='content', lowercase=True, max_df=1.0, max_features=None,\n",
       "                min_df=1, ngram_range=(1, 1), norm='l2', preprocessor=None,\n",
       "                smooth_idf=True, stop_words=None, strip_accents=None,\n",
       "                sublinear_tf=False, token_pattern='(?u)\\\\b\\\\w\\\\w+\\\\b',\n",
       "                tokenizer=None, use_idf=True, vocabulary=None)"
      ]
     },
     "execution_count": 12,
     "metadata": {},
     "output_type": "execute_result"
    }
   ],
   "source": [
    "#Train the vectorizer\n",
    "\n",
    "vectorizer = TfidfVectorizer()\n",
    "vectorizer.fit(np.concatenate((df3.Question, df3.Answer)))"
   ]
  },
  {
   "cell_type": "code",
   "execution_count": 13,
   "metadata": {},
   "outputs": [],
   "source": [
    "#Vectorize questions\n",
    "\n",
    "Question_vectors = vectorizer.transform(df3.Question)"
   ]
  },
  {
   "cell_type": "code",
   "execution_count": null,
   "metadata": {},
   "outputs": [
    {
     "name": "stdout",
     "output_type": "stream",
     "text": [
      "You can start chatting with me now.\n",
      "python\n",
      "instructor reply: Python is a programming language with objects, modules, threads, exceptions and automatic memory management. The benefits of pythons are that it is simple and easy, portable, extensible, build-in data structure and it is an open source.\n",
      "olcademy\n",
      "instructor reply: Olcademy is regarded as one of the best startups to intern with. Thanks to the work culture and keen support from the higher management in grooming the interns. A startup in technology, e-commerce, and e-learning space. We offer something for everyone, from high school students looking to enhance their academic profile to experienced practitioners who are seeking to focus on developing new skills, increase their knowledge base and keep up to date with developments within their particular areas of expertise.\n",
      "amazon\n",
      "instructor reply: For websites delivered via Amazon CloudFront or static websites hosted on Amazon S3, you can use the Amazon Route 53 service to create an Alias record for your domain which points to the CloudFront distribution or S3 website bucket. For S3 buckets not configured to host static websites, you can create a CNAME record for your domain and the S3 bucket name. In all cases, note that you will also need to configure your S3 bucket or your CloudFront distribution respectively with the alternate domain name entry to completely establish the alias between your domain name and the AWS domain name for your bucket or distribution.\n",
      "For CloudFront distributions and S3 buckets configured to host static websites, we recommend creating an ‘Alias’ record that maps to your CloudFront distribution or S3 website bucket, instead of using CNAMEs. Alias records have two advantages: first, unlike CNAMEs, you can create an Alias record for your zone apex (e.g. example.com, instead of www.example.com), and second, queries to Alias records are free of charge.\n"
     ]
    }
   ],
   "source": [
    "#question and answer with the user and instructor\n",
    "\n",
    "print(\"You can start chatting with me now.\")\n",
    "while True:\n",
    "    # Read user input\n",
    "    input_question = input()\n",
    "\n",
    "    # Locate the closest question\n",
    "    input_question_vector = vectorizer.transform([input_question])\n",
    "\n",
    "    # Compute similarities\n",
    "    similarities = cosine_similarity(input_question_vector, Question_vectors)\n",
    "\n",
    "    # Find the closest question\n",
    "    closest = np.argmax(similarities, axis=1)\n",
    "\n",
    "    # Print the correct answer\n",
    "    print(\"instructor reply: \" + df3.Answer.iloc[closest].values[0])"
   ]
  },
  {
   "cell_type": "code",
   "execution_count": null,
   "metadata": {},
   "outputs": [],
   "source": []
  }
 ],
 "metadata": {
  "kernelspec": {
   "display_name": "Python 3",
   "language": "python",
   "name": "python3"
  },
  "language_info": {
   "codemirror_mode": {
    "name": "ipython",
    "version": 3
   },
   "file_extension": ".py",
   "mimetype": "text/x-python",
   "name": "python",
   "nbconvert_exporter": "python",
   "pygments_lexer": "ipython3",
   "version": "3.7.3"
  }
 },
 "nbformat": 4,
 "nbformat_minor": 2
}
